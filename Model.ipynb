{
 "cells": [
  {
   "cell_type": "code",
   "execution_count": 6,
   "metadata": {},
   "outputs": [],
   "source": [
    "using DataFrames"
   ]
  },
  {
   "cell_type": "code",
   "execution_count": 7,
   "metadata": {},
   "outputs": [],
   "source": [
    "using CSV"
   ]
  },
  {
   "cell_type": "code",
   "execution_count": 81,
   "metadata": {},
   "outputs": [
    {
     "data": {
      "text/html": [
       "<table class=\"data-frame\"><thead><tr><th></th><th>age</th><th>job</th><th>marital</th><th>education</th><th>default</th><th>housing</th><th>loan</th></tr><tr><th></th><th>Int64</th><th>String</th><th>String</th><th>String</th><th>String</th><th>String</th><th>String</th></tr></thead><tbody><p>41,188 rows × 21 columns (omitted printing of 14 columns)</p><tr><th>1</th><td>56</td><td>housemaid</td><td>married</td><td>basic.4y</td><td>no</td><td>no</td><td>no</td></tr><tr><th>2</th><td>57</td><td>services</td><td>married</td><td>high.school</td><td>unknown</td><td>no</td><td>no</td></tr><tr><th>3</th><td>37</td><td>services</td><td>married</td><td>high.school</td><td>no</td><td>yes</td><td>no</td></tr><tr><th>4</th><td>40</td><td>admin.</td><td>married</td><td>basic.6y</td><td>no</td><td>no</td><td>no</td></tr><tr><th>5</th><td>56</td><td>services</td><td>married</td><td>high.school</td><td>no</td><td>no</td><td>yes</td></tr><tr><th>6</th><td>45</td><td>services</td><td>married</td><td>basic.9y</td><td>unknown</td><td>no</td><td>no</td></tr><tr><th>7</th><td>59</td><td>admin.</td><td>married</td><td>professional.course</td><td>no</td><td>no</td><td>no</td></tr><tr><th>8</th><td>41</td><td>blue-collar</td><td>married</td><td>unknown</td><td>unknown</td><td>no</td><td>no</td></tr><tr><th>9</th><td>24</td><td>technician</td><td>single</td><td>professional.course</td><td>no</td><td>yes</td><td>no</td></tr><tr><th>10</th><td>25</td><td>services</td><td>single</td><td>high.school</td><td>no</td><td>yes</td><td>no</td></tr><tr><th>11</th><td>41</td><td>blue-collar</td><td>married</td><td>unknown</td><td>unknown</td><td>no</td><td>no</td></tr><tr><th>12</th><td>25</td><td>services</td><td>single</td><td>high.school</td><td>no</td><td>yes</td><td>no</td></tr><tr><th>13</th><td>29</td><td>blue-collar</td><td>single</td><td>high.school</td><td>no</td><td>no</td><td>yes</td></tr><tr><th>14</th><td>57</td><td>housemaid</td><td>divorced</td><td>basic.4y</td><td>no</td><td>yes</td><td>no</td></tr><tr><th>15</th><td>35</td><td>blue-collar</td><td>married</td><td>basic.6y</td><td>no</td><td>yes</td><td>no</td></tr><tr><th>16</th><td>54</td><td>retired</td><td>married</td><td>basic.9y</td><td>unknown</td><td>yes</td><td>yes</td></tr><tr><th>17</th><td>35</td><td>blue-collar</td><td>married</td><td>basic.6y</td><td>no</td><td>yes</td><td>no</td></tr><tr><th>18</th><td>46</td><td>blue-collar</td><td>married</td><td>basic.6y</td><td>unknown</td><td>yes</td><td>yes</td></tr><tr><th>19</th><td>50</td><td>blue-collar</td><td>married</td><td>basic.9y</td><td>no</td><td>yes</td><td>yes</td></tr><tr><th>20</th><td>39</td><td>management</td><td>single</td><td>basic.9y</td><td>unknown</td><td>no</td><td>no</td></tr><tr><th>21</th><td>30</td><td>unemployed</td><td>married</td><td>high.school</td><td>no</td><td>no</td><td>no</td></tr><tr><th>22</th><td>55</td><td>blue-collar</td><td>married</td><td>basic.4y</td><td>unknown</td><td>yes</td><td>no</td></tr><tr><th>23</th><td>55</td><td>retired</td><td>single</td><td>high.school</td><td>no</td><td>yes</td><td>no</td></tr><tr><th>24</th><td>41</td><td>technician</td><td>single</td><td>high.school</td><td>no</td><td>yes</td><td>no</td></tr><tr><th>25</th><td>37</td><td>admin.</td><td>married</td><td>high.school</td><td>no</td><td>yes</td><td>no</td></tr><tr><th>26</th><td>35</td><td>technician</td><td>married</td><td>university.degree</td><td>no</td><td>no</td><td>yes</td></tr><tr><th>27</th><td>59</td><td>technician</td><td>married</td><td>unknown</td><td>no</td><td>yes</td><td>no</td></tr><tr><th>28</th><td>39</td><td>self-employed</td><td>married</td><td>basic.9y</td><td>unknown</td><td>no</td><td>no</td></tr><tr><th>29</th><td>54</td><td>technician</td><td>single</td><td>university.degree</td><td>unknown</td><td>no</td><td>no</td></tr><tr><th>30</th><td>55</td><td>unknown</td><td>married</td><td>university.degree</td><td>unknown</td><td>unknown</td><td>unknown</td></tr><tr><th>&vellip;</th><td>&vellip;</td><td>&vellip;</td><td>&vellip;</td><td>&vellip;</td><td>&vellip;</td><td>&vellip;</td><td>&vellip;</td></tr></tbody></table>"
      ],
      "text/latex": [
       "\\begin{tabular}{r|cccccccc}\n",
       "\t& age & job & marital & education & default & housing & loan & \\\\\n",
       "\t\\hline\n",
       "\t& Int64 & String & String & String & String & String & String & \\\\\n",
       "\t\\hline\n",
       "\t1 & 56 & housemaid & married & basic.4y & no & no & no & $\\dots$ \\\\\n",
       "\t2 & 57 & services & married & high.school & unknown & no & no & $\\dots$ \\\\\n",
       "\t3 & 37 & services & married & high.school & no & yes & no & $\\dots$ \\\\\n",
       "\t4 & 40 & admin. & married & basic.6y & no & no & no & $\\dots$ \\\\\n",
       "\t5 & 56 & services & married & high.school & no & no & yes & $\\dots$ \\\\\n",
       "\t6 & 45 & services & married & basic.9y & unknown & no & no & $\\dots$ \\\\\n",
       "\t7 & 59 & admin. & married & professional.course & no & no & no & $\\dots$ \\\\\n",
       "\t8 & 41 & blue-collar & married & unknown & unknown & no & no & $\\dots$ \\\\\n",
       "\t9 & 24 & technician & single & professional.course & no & yes & no & $\\dots$ \\\\\n",
       "\t10 & 25 & services & single & high.school & no & yes & no & $\\dots$ \\\\\n",
       "\t11 & 41 & blue-collar & married & unknown & unknown & no & no & $\\dots$ \\\\\n",
       "\t12 & 25 & services & single & high.school & no & yes & no & $\\dots$ \\\\\n",
       "\t13 & 29 & blue-collar & single & high.school & no & no & yes & $\\dots$ \\\\\n",
       "\t14 & 57 & housemaid & divorced & basic.4y & no & yes & no & $\\dots$ \\\\\n",
       "\t15 & 35 & blue-collar & married & basic.6y & no & yes & no & $\\dots$ \\\\\n",
       "\t16 & 54 & retired & married & basic.9y & unknown & yes & yes & $\\dots$ \\\\\n",
       "\t17 & 35 & blue-collar & married & basic.6y & no & yes & no & $\\dots$ \\\\\n",
       "\t18 & 46 & blue-collar & married & basic.6y & unknown & yes & yes & $\\dots$ \\\\\n",
       "\t19 & 50 & blue-collar & married & basic.9y & no & yes & yes & $\\dots$ \\\\\n",
       "\t20 & 39 & management & single & basic.9y & unknown & no & no & $\\dots$ \\\\\n",
       "\t21 & 30 & unemployed & married & high.school & no & no & no & $\\dots$ \\\\\n",
       "\t22 & 55 & blue-collar & married & basic.4y & unknown & yes & no & $\\dots$ \\\\\n",
       "\t23 & 55 & retired & single & high.school & no & yes & no & $\\dots$ \\\\\n",
       "\t24 & 41 & technician & single & high.school & no & yes & no & $\\dots$ \\\\\n",
       "\t25 & 37 & admin. & married & high.school & no & yes & no & $\\dots$ \\\\\n",
       "\t26 & 35 & technician & married & university.degree & no & no & yes & $\\dots$ \\\\\n",
       "\t27 & 59 & technician & married & unknown & no & yes & no & $\\dots$ \\\\\n",
       "\t28 & 39 & self-employed & married & basic.9y & unknown & no & no & $\\dots$ \\\\\n",
       "\t29 & 54 & technician & single & university.degree & unknown & no & no & $\\dots$ \\\\\n",
       "\t30 & 55 & unknown & married & university.degree & unknown & unknown & unknown & $\\dots$ \\\\\n",
       "\t$\\dots$ & $\\dots$ & $\\dots$ & $\\dots$ & $\\dots$ & $\\dots$ & $\\dots$ & $\\dots$ &  \\\\\n",
       "\\end{tabular}\n"
      ],
      "text/plain": [
       "41188×21 DataFrame. Omitted printing of 16 columns\n",
       "│ Row   │ age   │ job         │ marital  │ education           │ default │\n",
       "│       │ \u001b[90mInt64\u001b[39m │ \u001b[90mString\u001b[39m      │ \u001b[90mString\u001b[39m   │ \u001b[90mString\u001b[39m              │ \u001b[90mString\u001b[39m  │\n",
       "├───────┼───────┼─────────────┼──────────┼─────────────────────┼─────────┤\n",
       "│ 1     │ 56    │ housemaid   │ married  │ basic.4y            │ no      │\n",
       "│ 2     │ 57    │ services    │ married  │ high.school         │ unknown │\n",
       "│ 3     │ 37    │ services    │ married  │ high.school         │ no      │\n",
       "│ 4     │ 40    │ admin.      │ married  │ basic.6y            │ no      │\n",
       "│ 5     │ 56    │ services    │ married  │ high.school         │ no      │\n",
       "│ 6     │ 45    │ services    │ married  │ basic.9y            │ unknown │\n",
       "│ 7     │ 59    │ admin.      │ married  │ professional.course │ no      │\n",
       "│ 8     │ 41    │ blue-collar │ married  │ unknown             │ unknown │\n",
       "│ 9     │ 24    │ technician  │ single   │ professional.course │ no      │\n",
       "│ 10    │ 25    │ services    │ single   │ high.school         │ no      │\n",
       "⋮\n",
       "│ 41178 │ 57    │ retired     │ married  │ professional.course │ no      │\n",
       "│ 41179 │ 62    │ retired     │ married  │ university.degree   │ no      │\n",
       "│ 41180 │ 64    │ retired     │ divorced │ professional.course │ no      │\n",
       "│ 41181 │ 36    │ admin.      │ married  │ university.degree   │ no      │\n",
       "│ 41182 │ 37    │ admin.      │ married  │ university.degree   │ no      │\n",
       "│ 41183 │ 29    │ unemployed  │ single   │ basic.4y            │ no      │\n",
       "│ 41184 │ 73    │ retired     │ married  │ professional.course │ no      │\n",
       "│ 41185 │ 46    │ blue-collar │ married  │ professional.course │ no      │\n",
       "│ 41186 │ 56    │ retired     │ married  │ university.degree   │ no      │\n",
       "│ 41187 │ 44    │ technician  │ married  │ professional.course │ no      │\n",
       "│ 41188 │ 74    │ retired     │ married  │ professional.course │ no      │"
      ]
     },
     "execution_count": 81,
     "metadata": {},
     "output_type": "execute_result"
    }
   ],
   "source": [
    "df = CSV.read(\"bank-marketing-campaign/bank-additional-full.csv\")"
   ]
  },
  {
   "cell_type": "markdown",
   "metadata": {},
   "source": [
    "## Final task: Predict Y"
   ]
  },
  {
   "cell_type": "markdown",
   "metadata": {},
   "source": [
    "## Task 1 - Data cleaning and preparation"
   ]
  },
  {
   "cell_type": "code",
   "execution_count": 82,
   "metadata": {
    "collapsed": true
   },
   "outputs": [
    {
     "data": {
      "text/plain": [
       "41188×21 Array{Any,2}:\n",
       " 56  \"housemaid\"    \"married\"   …  93.994  -36.4  4.857  5191.0  \"no\" \n",
       " 57  \"services\"     \"married\"      93.994  -36.4  4.857  5191.0  \"no\" \n",
       " 37  \"services\"     \"married\"      93.994  -36.4  4.857  5191.0  \"no\" \n",
       " 40  \"admin.\"       \"married\"      93.994  -36.4  4.857  5191.0  \"no\" \n",
       " 56  \"services\"     \"married\"      93.994  -36.4  4.857  5191.0  \"no\" \n",
       " 45  \"services\"     \"married\"   …  93.994  -36.4  4.857  5191.0  \"no\" \n",
       " 59  \"admin.\"       \"married\"      93.994  -36.4  4.857  5191.0  \"no\" \n",
       " 41  \"blue-collar\"  \"married\"      93.994  -36.4  4.857  5191.0  \"no\" \n",
       " 24  \"technician\"   \"single\"       93.994  -36.4  4.857  5191.0  \"no\" \n",
       " 25  \"services\"     \"single\"       93.994  -36.4  4.857  5191.0  \"no\" \n",
       " 41  \"blue-collar\"  \"married\"   …  93.994  -36.4  4.857  5191.0  \"no\" \n",
       " 25  \"services\"     \"single\"       93.994  -36.4  4.857  5191.0  \"no\" \n",
       " 29  \"blue-collar\"  \"single\"       93.994  -36.4  4.857  5191.0  \"no\" \n",
       "  ⋮                             ⋱                                ⋮    \n",
       " 38  \"housemaid\"    \"divorced\"     94.767  -50.8  1.031  4963.6  \"no\" \n",
       " 57  \"retired\"      \"married\"      94.767  -50.8  1.031  4963.6  \"no\" \n",
       " 62  \"retired\"      \"married\"      94.767  -50.8  1.031  4963.6  \"yes\"\n",
       " 64  \"retired\"      \"divorced\"     94.767  -50.8  1.028  4963.6  \"no\" \n",
       " 36  \"admin.\"       \"married\"   …  94.767  -50.8  1.028  4963.6  \"no\" \n",
       " 37  \"admin.\"       \"married\"      94.767  -50.8  1.028  4963.6  \"yes\"\n",
       " 29  \"unemployed\"   \"single\"       94.767  -50.8  1.028  4963.6  \"no\" \n",
       " 73  \"retired\"      \"married\"      94.767  -50.8  1.028  4963.6  \"yes\"\n",
       " 46  \"blue-collar\"  \"married\"      94.767  -50.8  1.028  4963.6  \"no\" \n",
       " 56  \"retired\"      \"married\"   …  94.767  -50.8  1.028  4963.6  \"no\" \n",
       " 44  \"technician\"   \"married\"      94.767  -50.8  1.028  4963.6  \"yes\"\n",
       " 74  \"retired\"      \"married\"      94.767  -50.8  1.028  4963.6  \"no\" "
      ]
     },
     "execution_count": 82,
     "metadata": {},
     "output_type": "execute_result"
    }
   ],
   "source": [
    "# convert dataset into a matrix\n",
    "df = convert(Matrix,df)"
   ]
  },
  {
   "cell_type": "code",
   "execution_count": 39,
   "metadata": {},
   "outputs": [
    {
     "data": {
      "text/plain": [
       "pValues (generic function with 1 method)"
      ]
     },
     "execution_count": 39,
     "metadata": {},
     "output_type": "execute_result"
    }
   ],
   "source": [
    "# get the list of possible values\n",
    "function pValues(column)\n",
    "    values = []\n",
    "    count = 0\n",
    "    for c in column\n",
    "        for v in values\n",
    "            if(c == v)\n",
    "                count = 1 + count\n",
    "            end\n",
    "        end\n",
    "        if(count == 0)\n",
    "            push!(values,c)\n",
    "        end\n",
    "        count = 0\n",
    "    end\n",
    "    return values\n",
    "end        \n",
    "    "
   ]
  },
  {
   "cell_type": "code",
   "execution_count": 73,
   "metadata": {},
   "outputs": [
    {
     "data": {
      "text/plain": [
       "categoricalData (generic function with 1 method)"
      ]
     },
     "execution_count": 73,
     "metadata": {},
     "output_type": "execute_result"
    }
   ],
   "source": [
    "# change strings to number\n",
    "function categoricalData(column,values)\n",
    "    for c in 1:size(column,1)\n",
    "        for i in 1:size(values,1)\n",
    "            if(column[c] == values[i])\n",
    "                column[c] = i\n",
    "            end\n",
    "        end\n",
    "    end\n",
    "    return column\n",
    "end\n",
    "                "
   ]
  },
  {
   "cell_type": "code",
   "execution_count": 90,
   "metadata": {},
   "outputs": [
    {
     "data": {
      "text/plain": [
       "binaryData (generic function with 1 method)"
      ]
     },
     "execution_count": 90,
     "metadata": {},
     "output_type": "execute_result"
    }
   ],
   "source": [
    "# binary data\n",
    "function binaryData(column)\n",
    "    for i in 1:size(column,1)\n",
    "        if(column[i] == \"yes\")\n",
    "            column[i] = 1\n",
    "        else\n",
    "            column[i] = 0\n",
    "        end\n",
    "    end\n",
    "    return column\n",
    "end"
   ]
  },
  {
   "cell_type": "code",
   "execution_count": 95,
   "metadata": {
    "collapsed": true
   },
   "outputs": [
    {
     "data": {
      "text/plain": [
       "41188-element Array{Any,1}:\n",
       " 0\n",
       " 0\n",
       " 0\n",
       " 0\n",
       " 0\n",
       " 0\n",
       " 0\n",
       " 0\n",
       " 0\n",
       " 0\n",
       " 0\n",
       " 0\n",
       " 0\n",
       " ⋮\n",
       " 0\n",
       " 0\n",
       " 0\n",
       " 0\n",
       " 0\n",
       " 0\n",
       " 0\n",
       " 0\n",
       " 0\n",
       " 0\n",
       " 0\n",
       " 0"
      ]
     },
     "execution_count": 95,
     "metadata": {},
     "output_type": "execute_result"
    }
   ],
   "source": [
    "# prepare job description\n",
    "df[:,2] = categoricalData(df[:,2], pValues(df[:,2]))\n",
    "# prepare marital status\n",
    "df[:,3] = categoricalData(df[:,3], pValues(df[:,3]))\n",
    "# prepare education\n",
    "df[:,4] = categoricalData(df[:,4], pValues(df[:,4]))\n",
    "# prepare default\n",
    "df[:,5] = categoricalData(df[:,5], pValues(df[:,5]))\n",
    "# prepare housing\n",
    "df[:,6] = categoricalData(df[:,6], pValues(df[:,6]))\n",
    "# prepare loan\n",
    "df[:,7] = categoricalData(df[:,7], pValues(df[:,7]))\n",
    "# prepare contact\n",
    "df[:,8] = categoricalData(df[:,8], pValues(df[:,8]))\n",
    "# prepare month\n",
    "df[:,9] = categoricalData(df[:,9], pValues(df[:,9]))\n",
    "# prepare day of week\n",
    "df[:,10] = categoricalData(df[:,10], pValues(df[:,10]))\n",
    "# prepare poutcome\n",
    "df[:,15] = categoricalData(df[:,15], pValues(df[:,15]))\n",
    "\n",
    "# prepare y\n",
    "df[:,21] = binaryData(df[:,21])"
   ]
  },
  {
   "cell_type": "code",
   "execution_count": 98,
   "metadata": {
    "collapsed": true
   },
   "outputs": [
    {
     "data": {
      "text/plain": [
       "41188×21 Array{Float64,2}:\n",
       " 56.0  1.0  1.0  1.0  1.0  1.0  1.0  …  93.994  -36.4  4.857  5191.0  0.0\n",
       " 57.0  2.0  1.0  2.0  2.0  1.0  1.0     93.994  -36.4  4.857  5191.0  0.0\n",
       " 37.0  2.0  1.0  2.0  1.0  2.0  1.0     93.994  -36.4  4.857  5191.0  0.0\n",
       " 40.0  3.0  1.0  3.0  1.0  1.0  1.0     93.994  -36.4  4.857  5191.0  0.0\n",
       " 56.0  2.0  1.0  2.0  1.0  1.0  2.0     93.994  -36.4  4.857  5191.0  0.0\n",
       " 45.0  2.0  1.0  4.0  2.0  1.0  1.0  …  93.994  -36.4  4.857  5191.0  0.0\n",
       " 59.0  3.0  1.0  5.0  1.0  1.0  1.0     93.994  -36.4  4.857  5191.0  0.0\n",
       " 41.0  4.0  1.0  6.0  2.0  1.0  1.0     93.994  -36.4  4.857  5191.0  0.0\n",
       " 24.0  5.0  2.0  5.0  1.0  2.0  1.0     93.994  -36.4  4.857  5191.0  0.0\n",
       " 25.0  2.0  2.0  2.0  1.0  2.0  1.0     93.994  -36.4  4.857  5191.0  0.0\n",
       " 41.0  4.0  1.0  6.0  2.0  1.0  1.0  …  93.994  -36.4  4.857  5191.0  0.0\n",
       " 25.0  2.0  2.0  2.0  1.0  2.0  1.0     93.994  -36.4  4.857  5191.0  0.0\n",
       " 29.0  4.0  2.0  2.0  1.0  1.0  2.0     93.994  -36.4  4.857  5191.0  0.0\n",
       "  ⋮                        ⋮         ⋱                                ⋮  \n",
       " 38.0  1.0  3.0  2.0  1.0  2.0  2.0     94.767  -50.8  1.031  4963.6  0.0\n",
       " 57.0  6.0  1.0  5.0  1.0  2.0  1.0     94.767  -50.8  1.031  4963.6  0.0\n",
       " 62.0  6.0  1.0  7.0  1.0  1.0  1.0     94.767  -50.8  1.031  4963.6  0.0\n",
       " 64.0  6.0  3.0  5.0  1.0  2.0  1.0     94.767  -50.8  1.028  4963.6  0.0\n",
       " 36.0  3.0  1.0  7.0  1.0  1.0  1.0  …  94.767  -50.8  1.028  4963.6  0.0\n",
       " 37.0  3.0  1.0  7.0  1.0  2.0  1.0     94.767  -50.8  1.028  4963.6  0.0\n",
       " 29.0  8.0  2.0  1.0  1.0  2.0  1.0     94.767  -50.8  1.028  4963.6  0.0\n",
       " 73.0  6.0  1.0  5.0  1.0  2.0  1.0     94.767  -50.8  1.028  4963.6  0.0\n",
       " 46.0  4.0  1.0  5.0  1.0  1.0  1.0     94.767  -50.8  1.028  4963.6  0.0\n",
       " 56.0  6.0  1.0  7.0  1.0  2.0  1.0  …  94.767  -50.8  1.028  4963.6  0.0\n",
       " 44.0  5.0  1.0  5.0  1.0  1.0  1.0     94.767  -50.8  1.028  4963.6  0.0\n",
       " 74.0  6.0  1.0  5.0  1.0  2.0  1.0     94.767  -50.8  1.028  4963.6  0.0"
      ]
     },
     "execution_count": 98,
     "metadata": {},
     "output_type": "execute_result"
    }
   ],
   "source": [
    "# convert matrix to Array float\n",
    "df = convert(Array{Float64},df)"
   ]
  },
  {
   "cell_type": "code",
   "execution_count": null,
   "metadata": {},
   "outputs": [],
   "source": []
  }
 ],
 "metadata": {
  "kernelspec": {
   "display_name": "Julia 1.3.1",
   "language": "julia",
   "name": "julia-1.3"
  },
  "language_info": {
   "file_extension": ".jl",
   "mimetype": "application/julia",
   "name": "julia",
   "version": "1.3.1"
  }
 },
 "nbformat": 4,
 "nbformat_minor": 4
}
