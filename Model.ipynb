{
 "cells": [
  {
   "cell_type": "code",
   "execution_count": 4,
   "metadata": {},
   "outputs": [],
   "source": [
    "using DataFrames"
   ]
  },
  {
   "cell_type": "code",
   "execution_count": 5,
   "metadata": {},
   "outputs": [],
   "source": [
    "using CSV"
   ]
  },
  {
   "cell_type": "code",
   "execution_count": 38,
   "metadata": {},
   "outputs": [
    {
     "data": {
      "text/html": [
       "<table class=\"data-frame\"><thead><tr><th></th><th>age</th><th>job</th><th>marital</th><th>education</th><th>default</th><th>housing</th><th>loan</th></tr><tr><th></th><th>Int64</th><th>String</th><th>String</th><th>String</th><th>String</th><th>String</th><th>String</th></tr></thead><tbody><p>41,188 rows × 21 columns (omitted printing of 14 columns)</p><tr><th>1</th><td>56</td><td>housemaid</td><td>married</td><td>basic.4y</td><td>no</td><td>no</td><td>no</td></tr><tr><th>2</th><td>57</td><td>services</td><td>married</td><td>high.school</td><td>unknown</td><td>no</td><td>no</td></tr><tr><th>3</th><td>37</td><td>services</td><td>married</td><td>high.school</td><td>no</td><td>yes</td><td>no</td></tr><tr><th>4</th><td>40</td><td>admin.</td><td>married</td><td>basic.6y</td><td>no</td><td>no</td><td>no</td></tr><tr><th>5</th><td>56</td><td>services</td><td>married</td><td>high.school</td><td>no</td><td>no</td><td>yes</td></tr><tr><th>6</th><td>45</td><td>services</td><td>married</td><td>basic.9y</td><td>unknown</td><td>no</td><td>no</td></tr><tr><th>7</th><td>59</td><td>admin.</td><td>married</td><td>professional.course</td><td>no</td><td>no</td><td>no</td></tr><tr><th>8</th><td>41</td><td>blue-collar</td><td>married</td><td>unknown</td><td>unknown</td><td>no</td><td>no</td></tr><tr><th>9</th><td>24</td><td>technician</td><td>single</td><td>professional.course</td><td>no</td><td>yes</td><td>no</td></tr><tr><th>10</th><td>25</td><td>services</td><td>single</td><td>high.school</td><td>no</td><td>yes</td><td>no</td></tr><tr><th>11</th><td>41</td><td>blue-collar</td><td>married</td><td>unknown</td><td>unknown</td><td>no</td><td>no</td></tr><tr><th>12</th><td>25</td><td>services</td><td>single</td><td>high.school</td><td>no</td><td>yes</td><td>no</td></tr><tr><th>13</th><td>29</td><td>blue-collar</td><td>single</td><td>high.school</td><td>no</td><td>no</td><td>yes</td></tr><tr><th>14</th><td>57</td><td>housemaid</td><td>divorced</td><td>basic.4y</td><td>no</td><td>yes</td><td>no</td></tr><tr><th>15</th><td>35</td><td>blue-collar</td><td>married</td><td>basic.6y</td><td>no</td><td>yes</td><td>no</td></tr><tr><th>16</th><td>54</td><td>retired</td><td>married</td><td>basic.9y</td><td>unknown</td><td>yes</td><td>yes</td></tr><tr><th>17</th><td>35</td><td>blue-collar</td><td>married</td><td>basic.6y</td><td>no</td><td>yes</td><td>no</td></tr><tr><th>18</th><td>46</td><td>blue-collar</td><td>married</td><td>basic.6y</td><td>unknown</td><td>yes</td><td>yes</td></tr><tr><th>19</th><td>50</td><td>blue-collar</td><td>married</td><td>basic.9y</td><td>no</td><td>yes</td><td>yes</td></tr><tr><th>20</th><td>39</td><td>management</td><td>single</td><td>basic.9y</td><td>unknown</td><td>no</td><td>no</td></tr><tr><th>21</th><td>30</td><td>unemployed</td><td>married</td><td>high.school</td><td>no</td><td>no</td><td>no</td></tr><tr><th>22</th><td>55</td><td>blue-collar</td><td>married</td><td>basic.4y</td><td>unknown</td><td>yes</td><td>no</td></tr><tr><th>23</th><td>55</td><td>retired</td><td>single</td><td>high.school</td><td>no</td><td>yes</td><td>no</td></tr><tr><th>24</th><td>41</td><td>technician</td><td>single</td><td>high.school</td><td>no</td><td>yes</td><td>no</td></tr><tr><th>25</th><td>37</td><td>admin.</td><td>married</td><td>high.school</td><td>no</td><td>yes</td><td>no</td></tr><tr><th>26</th><td>35</td><td>technician</td><td>married</td><td>university.degree</td><td>no</td><td>no</td><td>yes</td></tr><tr><th>27</th><td>59</td><td>technician</td><td>married</td><td>unknown</td><td>no</td><td>yes</td><td>no</td></tr><tr><th>28</th><td>39</td><td>self-employed</td><td>married</td><td>basic.9y</td><td>unknown</td><td>no</td><td>no</td></tr><tr><th>29</th><td>54</td><td>technician</td><td>single</td><td>university.degree</td><td>unknown</td><td>no</td><td>no</td></tr><tr><th>30</th><td>55</td><td>unknown</td><td>married</td><td>university.degree</td><td>unknown</td><td>unknown</td><td>unknown</td></tr><tr><th>&vellip;</th><td>&vellip;</td><td>&vellip;</td><td>&vellip;</td><td>&vellip;</td><td>&vellip;</td><td>&vellip;</td><td>&vellip;</td></tr></tbody></table>"
      ],
      "text/latex": [
       "\\begin{tabular}{r|cccccccc}\n",
       "\t& age & job & marital & education & default & housing & loan & \\\\\n",
       "\t\\hline\n",
       "\t& Int64 & String & String & String & String & String & String & \\\\\n",
       "\t\\hline\n",
       "\t1 & 56 & housemaid & married & basic.4y & no & no & no & $\\dots$ \\\\\n",
       "\t2 & 57 & services & married & high.school & unknown & no & no & $\\dots$ \\\\\n",
       "\t3 & 37 & services & married & high.school & no & yes & no & $\\dots$ \\\\\n",
       "\t4 & 40 & admin. & married & basic.6y & no & no & no & $\\dots$ \\\\\n",
       "\t5 & 56 & services & married & high.school & no & no & yes & $\\dots$ \\\\\n",
       "\t6 & 45 & services & married & basic.9y & unknown & no & no & $\\dots$ \\\\\n",
       "\t7 & 59 & admin. & married & professional.course & no & no & no & $\\dots$ \\\\\n",
       "\t8 & 41 & blue-collar & married & unknown & unknown & no & no & $\\dots$ \\\\\n",
       "\t9 & 24 & technician & single & professional.course & no & yes & no & $\\dots$ \\\\\n",
       "\t10 & 25 & services & single & high.school & no & yes & no & $\\dots$ \\\\\n",
       "\t11 & 41 & blue-collar & married & unknown & unknown & no & no & $\\dots$ \\\\\n",
       "\t12 & 25 & services & single & high.school & no & yes & no & $\\dots$ \\\\\n",
       "\t13 & 29 & blue-collar & single & high.school & no & no & yes & $\\dots$ \\\\\n",
       "\t14 & 57 & housemaid & divorced & basic.4y & no & yes & no & $\\dots$ \\\\\n",
       "\t15 & 35 & blue-collar & married & basic.6y & no & yes & no & $\\dots$ \\\\\n",
       "\t16 & 54 & retired & married & basic.9y & unknown & yes & yes & $\\dots$ \\\\\n",
       "\t17 & 35 & blue-collar & married & basic.6y & no & yes & no & $\\dots$ \\\\\n",
       "\t18 & 46 & blue-collar & married & basic.6y & unknown & yes & yes & $\\dots$ \\\\\n",
       "\t19 & 50 & blue-collar & married & basic.9y & no & yes & yes & $\\dots$ \\\\\n",
       "\t20 & 39 & management & single & basic.9y & unknown & no & no & $\\dots$ \\\\\n",
       "\t21 & 30 & unemployed & married & high.school & no & no & no & $\\dots$ \\\\\n",
       "\t22 & 55 & blue-collar & married & basic.4y & unknown & yes & no & $\\dots$ \\\\\n",
       "\t23 & 55 & retired & single & high.school & no & yes & no & $\\dots$ \\\\\n",
       "\t24 & 41 & technician & single & high.school & no & yes & no & $\\dots$ \\\\\n",
       "\t25 & 37 & admin. & married & high.school & no & yes & no & $\\dots$ \\\\\n",
       "\t26 & 35 & technician & married & university.degree & no & no & yes & $\\dots$ \\\\\n",
       "\t27 & 59 & technician & married & unknown & no & yes & no & $\\dots$ \\\\\n",
       "\t28 & 39 & self-employed & married & basic.9y & unknown & no & no & $\\dots$ \\\\\n",
       "\t29 & 54 & technician & single & university.degree & unknown & no & no & $\\dots$ \\\\\n",
       "\t30 & 55 & unknown & married & university.degree & unknown & unknown & unknown & $\\dots$ \\\\\n",
       "\t$\\dots$ & $\\dots$ & $\\dots$ & $\\dots$ & $\\dots$ & $\\dots$ & $\\dots$ & $\\dots$ &  \\\\\n",
       "\\end{tabular}\n"
      ],
      "text/plain": [
       "41188×21 DataFrame. Omitted printing of 16 columns\n",
       "│ Row   │ age   │ job         │ marital  │ education           │ default │\n",
       "│       │ \u001b[90mInt64\u001b[39m │ \u001b[90mString\u001b[39m      │ \u001b[90mString\u001b[39m   │ \u001b[90mString\u001b[39m              │ \u001b[90mString\u001b[39m  │\n",
       "├───────┼───────┼─────────────┼──────────┼─────────────────────┼─────────┤\n",
       "│ 1     │ 56    │ housemaid   │ married  │ basic.4y            │ no      │\n",
       "│ 2     │ 57    │ services    │ married  │ high.school         │ unknown │\n",
       "│ 3     │ 37    │ services    │ married  │ high.school         │ no      │\n",
       "│ 4     │ 40    │ admin.      │ married  │ basic.6y            │ no      │\n",
       "│ 5     │ 56    │ services    │ married  │ high.school         │ no      │\n",
       "│ 6     │ 45    │ services    │ married  │ basic.9y            │ unknown │\n",
       "│ 7     │ 59    │ admin.      │ married  │ professional.course │ no      │\n",
       "│ 8     │ 41    │ blue-collar │ married  │ unknown             │ unknown │\n",
       "│ 9     │ 24    │ technician  │ single   │ professional.course │ no      │\n",
       "│ 10    │ 25    │ services    │ single   │ high.school         │ no      │\n",
       "⋮\n",
       "│ 41178 │ 57    │ retired     │ married  │ professional.course │ no      │\n",
       "│ 41179 │ 62    │ retired     │ married  │ university.degree   │ no      │\n",
       "│ 41180 │ 64    │ retired     │ divorced │ professional.course │ no      │\n",
       "│ 41181 │ 36    │ admin.      │ married  │ university.degree   │ no      │\n",
       "│ 41182 │ 37    │ admin.      │ married  │ university.degree   │ no      │\n",
       "│ 41183 │ 29    │ unemployed  │ single   │ basic.4y            │ no      │\n",
       "│ 41184 │ 73    │ retired     │ married  │ professional.course │ no      │\n",
       "│ 41185 │ 46    │ blue-collar │ married  │ professional.course │ no      │\n",
       "│ 41186 │ 56    │ retired     │ married  │ university.degree   │ no      │\n",
       "│ 41187 │ 44    │ technician  │ married  │ professional.course │ no      │\n",
       "│ 41188 │ 74    │ retired     │ married  │ professional.course │ no      │"
      ]
     },
     "execution_count": 38,
     "metadata": {},
     "output_type": "execute_result"
    }
   ],
   "source": [
    "df = CSV.read(\"bank-marketing-campaign/bank-additional-full.csv\")"
   ]
  },
  {
   "cell_type": "markdown",
   "metadata": {},
   "source": [
    "# Final task: Predict Y"
   ]
  },
  {
   "cell_type": "markdown",
   "metadata": {},
   "source": [
    "## Task 1 - Data cleaning and preparation"
   ]
  },
  {
   "cell_type": "code",
   "execution_count": 39,
   "metadata": {},
   "outputs": [
    {
     "data": {
      "text/plain": [
       "41188×21 Array{Any,2}:\n",
       " 56  \"housemaid\"    \"married\"   …  93.994  -36.4  4.857  5191.0  \"no\" \n",
       " 57  \"services\"     \"married\"      93.994  -36.4  4.857  5191.0  \"no\" \n",
       " 37  \"services\"     \"married\"      93.994  -36.4  4.857  5191.0  \"no\" \n",
       " 40  \"admin.\"       \"married\"      93.994  -36.4  4.857  5191.0  \"no\" \n",
       " 56  \"services\"     \"married\"      93.994  -36.4  4.857  5191.0  \"no\" \n",
       " 45  \"services\"     \"married\"   …  93.994  -36.4  4.857  5191.0  \"no\" \n",
       " 59  \"admin.\"       \"married\"      93.994  -36.4  4.857  5191.0  \"no\" \n",
       " 41  \"blue-collar\"  \"married\"      93.994  -36.4  4.857  5191.0  \"no\" \n",
       " 24  \"technician\"   \"single\"       93.994  -36.4  4.857  5191.0  \"no\" \n",
       " 25  \"services\"     \"single\"       93.994  -36.4  4.857  5191.0  \"no\" \n",
       " 41  \"blue-collar\"  \"married\"   …  93.994  -36.4  4.857  5191.0  \"no\" \n",
       " 25  \"services\"     \"single\"       93.994  -36.4  4.857  5191.0  \"no\" \n",
       " 29  \"blue-collar\"  \"single\"       93.994  -36.4  4.857  5191.0  \"no\" \n",
       "  ⋮                             ⋱                                ⋮    \n",
       " 38  \"housemaid\"    \"divorced\"     94.767  -50.8  1.031  4963.6  \"no\" \n",
       " 57  \"retired\"      \"married\"      94.767  -50.8  1.031  4963.6  \"no\" \n",
       " 62  \"retired\"      \"married\"      94.767  -50.8  1.031  4963.6  \"yes\"\n",
       " 64  \"retired\"      \"divorced\"     94.767  -50.8  1.028  4963.6  \"no\" \n",
       " 36  \"admin.\"       \"married\"   …  94.767  -50.8  1.028  4963.6  \"no\" \n",
       " 37  \"admin.\"       \"married\"      94.767  -50.8  1.028  4963.6  \"yes\"\n",
       " 29  \"unemployed\"   \"single\"       94.767  -50.8  1.028  4963.6  \"no\" \n",
       " 73  \"retired\"      \"married\"      94.767  -50.8  1.028  4963.6  \"yes\"\n",
       " 46  \"blue-collar\"  \"married\"      94.767  -50.8  1.028  4963.6  \"no\" \n",
       " 56  \"retired\"      \"married\"   …  94.767  -50.8  1.028  4963.6  \"no\" \n",
       " 44  \"technician\"   \"married\"      94.767  -50.8  1.028  4963.6  \"yes\"\n",
       " 74  \"retired\"      \"married\"      94.767  -50.8  1.028  4963.6  \"no\" "
      ]
     },
     "execution_count": 39,
     "metadata": {},
     "output_type": "execute_result"
    }
   ],
   "source": [
    "# convert dataset into a matrix\n",
    "df = convert(Matrix,df)"
   ]
  },
  {
   "cell_type": "code",
   "execution_count": 11,
   "metadata": {},
   "outputs": [
    {
     "data": {
      "text/plain": [
       "pValues (generic function with 1 method)"
      ]
     },
     "execution_count": 11,
     "metadata": {},
     "output_type": "execute_result"
    }
   ],
   "source": [
    "# get the list of possible values\n",
    "function pValues(column)\n",
    "    values = []\n",
    "    count = 0\n",
    "    for c in column\n",
    "        for v in values\n",
    "            if(c == v)\n",
    "                count = 1 + count\n",
    "            end\n",
    "        end\n",
    "        if(count == 0)\n",
    "            push!(values,c)\n",
    "        end\n",
    "        count = 0\n",
    "    end\n",
    "    return values\n",
    "end        \n",
    "    "
   ]
  },
  {
   "cell_type": "code",
   "execution_count": 12,
   "metadata": {},
   "outputs": [
    {
     "data": {
      "text/plain": [
       "categoricalData (generic function with 1 method)"
      ]
     },
     "execution_count": 12,
     "metadata": {},
     "output_type": "execute_result"
    }
   ],
   "source": [
    "# change strings to number\n",
    "function categoricalData(column,values)\n",
    "    for c in 1:size(column,1)\n",
    "        for i in 1:size(values,1)\n",
    "            if(column[c] == values[i])\n",
    "                column[c] = i\n",
    "            end\n",
    "        end\n",
    "    end\n",
    "    return column\n",
    "end\n",
    "                "
   ]
  },
  {
   "cell_type": "code",
   "execution_count": 13,
   "metadata": {},
   "outputs": [
    {
     "data": {
      "text/plain": [
       "binaryData (generic function with 1 method)"
      ]
     },
     "execution_count": 13,
     "metadata": {},
     "output_type": "execute_result"
    }
   ],
   "source": [
    "# binary data\n",
    "function binaryData(column)\n",
    "    for i in 1:size(column,1)\n",
    "        if(column[i] == \"yes\")\n",
    "            column[i] = 1\n",
    "        else\n",
    "            column[i] = 0\n",
    "        end\n",
    "    end\n",
    "    return column\n",
    "end"
   ]
  },
  {
   "cell_type": "code",
   "execution_count": 40,
   "metadata": {},
   "outputs": [
    {
     "data": {
      "text/plain": [
       "41188-element Array{Any,1}:\n",
       " 0\n",
       " 0\n",
       " 0\n",
       " 0\n",
       " 0\n",
       " 0\n",
       " 0\n",
       " 0\n",
       " 0\n",
       " 0\n",
       " 0\n",
       " 0\n",
       " 0\n",
       " ⋮\n",
       " 0\n",
       " 0\n",
       " 1\n",
       " 0\n",
       " 0\n",
       " 1\n",
       " 0\n",
       " 1\n",
       " 0\n",
       " 0\n",
       " 1\n",
       " 0"
      ]
     },
     "execution_count": 40,
     "metadata": {},
     "output_type": "execute_result"
    }
   ],
   "source": [
    "# prepare job description\n",
    "df[:,2] = categoricalData(df[:,2], pValues(df[:,2]))\n",
    "# prepare marital status\n",
    "df[:,3] = categoricalData(df[:,3], pValues(df[:,3]))\n",
    "# prepare education\n",
    "df[:,4] = categoricalData(df[:,4], pValues(df[:,4]))\n",
    "# prepare default\n",
    "df[:,5] = categoricalData(df[:,5], pValues(df[:,5]))\n",
    "# prepare housing\n",
    "df[:,6] = categoricalData(df[:,6], pValues(df[:,6]))\n",
    "# prepare loan\n",
    "df[:,7] = categoricalData(df[:,7], pValues(df[:,7]))\n",
    "# prepare contact\n",
    "df[:,8] = categoricalData(df[:,8], pValues(df[:,8]))\n",
    "# prepare month\n",
    "df[:,9] = categoricalData(df[:,9], pValues(df[:,9]))\n",
    "# prepare day of week\n",
    "df[:,10] = categoricalData(df[:,10], pValues(df[:,10]))\n",
    "# prepare poutcome\n",
    "df[:,15] = categoricalData(df[:,15], pValues(df[:,15]))\n",
    "\n",
    "# prepare y\n",
    "df[:,21] = binaryData(df[:,21])"
   ]
  },
  {
   "cell_type": "code",
   "execution_count": 41,
   "metadata": {},
   "outputs": [
    {
     "data": {
      "text/plain": [
       "41188×21 Array{Float64,2}:\n",
       " 56.0  1.0  1.0  1.0  1.0  1.0  1.0  …  93.994  -36.4  4.857  5191.0  0.0\n",
       " 57.0  2.0  1.0  2.0  2.0  1.0  1.0     93.994  -36.4  4.857  5191.0  0.0\n",
       " 37.0  2.0  1.0  2.0  1.0  2.0  1.0     93.994  -36.4  4.857  5191.0  0.0\n",
       " 40.0  3.0  1.0  3.0  1.0  1.0  1.0     93.994  -36.4  4.857  5191.0  0.0\n",
       " 56.0  2.0  1.0  2.0  1.0  1.0  2.0     93.994  -36.4  4.857  5191.0  0.0\n",
       " 45.0  2.0  1.0  4.0  2.0  1.0  1.0  …  93.994  -36.4  4.857  5191.0  0.0\n",
       " 59.0  3.0  1.0  5.0  1.0  1.0  1.0     93.994  -36.4  4.857  5191.0  0.0\n",
       " 41.0  4.0  1.0  6.0  2.0  1.0  1.0     93.994  -36.4  4.857  5191.0  0.0\n",
       " 24.0  5.0  2.0  5.0  1.0  2.0  1.0     93.994  -36.4  4.857  5191.0  0.0\n",
       " 25.0  2.0  2.0  2.0  1.0  2.0  1.0     93.994  -36.4  4.857  5191.0  0.0\n",
       " 41.0  4.0  1.0  6.0  2.0  1.0  1.0  …  93.994  -36.4  4.857  5191.0  0.0\n",
       " 25.0  2.0  2.0  2.0  1.0  2.0  1.0     93.994  -36.4  4.857  5191.0  0.0\n",
       " 29.0  4.0  2.0  2.0  1.0  1.0  2.0     93.994  -36.4  4.857  5191.0  0.0\n",
       "  ⋮                        ⋮         ⋱                                ⋮  \n",
       " 38.0  1.0  3.0  2.0  1.0  2.0  2.0     94.767  -50.8  1.031  4963.6  0.0\n",
       " 57.0  6.0  1.0  5.0  1.0  2.0  1.0     94.767  -50.8  1.031  4963.6  0.0\n",
       " 62.0  6.0  1.0  7.0  1.0  1.0  1.0     94.767  -50.8  1.031  4963.6  1.0\n",
       " 64.0  6.0  3.0  5.0  1.0  2.0  1.0     94.767  -50.8  1.028  4963.6  0.0\n",
       " 36.0  3.0  1.0  7.0  1.0  1.0  1.0  …  94.767  -50.8  1.028  4963.6  0.0\n",
       " 37.0  3.0  1.0  7.0  1.0  2.0  1.0     94.767  -50.8  1.028  4963.6  1.0\n",
       " 29.0  8.0  2.0  1.0  1.0  2.0  1.0     94.767  -50.8  1.028  4963.6  0.0\n",
       " 73.0  6.0  1.0  5.0  1.0  2.0  1.0     94.767  -50.8  1.028  4963.6  1.0\n",
       " 46.0  4.0  1.0  5.0  1.0  1.0  1.0     94.767  -50.8  1.028  4963.6  0.0\n",
       " 56.0  6.0  1.0  7.0  1.0  2.0  1.0  …  94.767  -50.8  1.028  4963.6  0.0\n",
       " 44.0  5.0  1.0  5.0  1.0  1.0  1.0     94.767  -50.8  1.028  4963.6  1.0\n",
       " 74.0  6.0  1.0  5.0  1.0  2.0  1.0     94.767  -50.8  1.028  4963.6  0.0"
      ]
     },
     "execution_count": 41,
     "metadata": {},
     "output_type": "execute_result"
    }
   ],
   "source": [
    "# convert matrix to Array float\n",
    "df = convert(Array{Float64},df)"
   ]
  },
  {
   "cell_type": "markdown",
   "metadata": {},
   "source": [
    "## Task 2 - 80/20 divisision, standardization, oneMatrix, theta"
   ]
  },
  {
   "cell_type": "code",
   "execution_count": 43,
   "metadata": {},
   "outputs": [
    {
     "data": {
      "text/plain": [
       "41188×20 Array{Float64,2}:\n",
       " -0.234071  -0.281215  -0.281215  -0.281215  …  -0.313273  -0.277909  4.16744\n",
       " -0.228476  -0.275597  -0.276454  -0.275597     -0.308497  -0.27315   4.17008\n",
       " -0.248101  -0.278093  -0.27895   -0.278093     -0.310999  -0.275645  4.16845\n",
       " -0.242404  -0.274099  -0.275812  -0.274099     -0.307849  -0.272508  4.17004\n",
       " -0.2362    -0.282492  -0.283349  -0.282492     -0.315411  -0.280043  4.16585\n",
       " -0.240472  -0.277319  -0.278176  -0.275605  …  -0.310224  -0.274871  4.16918\n",
       " -0.226546  -0.274523  -0.276237  -0.27281      -0.308279  -0.272932  4.17025\n",
       " -0.244737  -0.276445  -0.279016  -0.274731     -0.311067  -0.275711  4.16875\n",
       " -0.265609  -0.281892  -0.284463  -0.281892     -0.317372  -0.282014  4.16253\n",
       " -0.250029  -0.269711  -0.269711  -0.269711     -0.302572  -0.267266  4.17074\n",
       " -0.237518  -0.269189  -0.271757  -0.267477  …  -0.303771  -0.268456  4.17083\n",
       " -0.257705  -0.277412  -0.277412  -0.277412     -0.310313  -0.274964  4.16851\n",
       " -0.250793  -0.272204  -0.273917  -0.273917     -0.306805  -0.27147   4.17021\n",
       "  ⋮                                          ⋱                               \n",
       " -0.253756  -0.286877  -0.285086  -0.285981     -0.333246  -0.286849  4.15545\n",
       " -0.227393  -0.273029  -0.277503  -0.273924     -0.323854  -0.277475  4.16308\n",
       " -0.196568  -0.247115  -0.251628  -0.246212     -0.298384  -0.2516    4.22772\n",
       " -0.222712  -0.274625  -0.27731   -0.27552      -0.325464  -0.279075  4.16269\n",
       " -0.250933  -0.280473  -0.282263  -0.276892  …  -0.328632  -0.282238  4.16001\n",
       " -0.251308  -0.281745  -0.283536  -0.278165     -0.329908  -0.283511  4.15904\n",
       " -0.2081    -0.227057  -0.232474  -0.233376     -0.280138  -0.233351  4.24648\n",
       " -0.223208  -0.283214  -0.287692  -0.28411      -0.334085  -0.287667  4.15686\n",
       " -0.248138  -0.285738  -0.288423  -0.284842     -0.334797  -0.288398  4.15429\n",
       " -0.2312    -0.275959  -0.280435  -0.275064  …  -0.326804  -0.280409  4.16194\n",
       " -0.252466  -0.287373  -0.290953  -0.287373     -0.337316  -0.290928  4.15074\n",
       " -0.218267  -0.279164  -0.283642  -0.28006      -0.330031  -0.283617  4.1606 "
      ]
     },
     "execution_count": 43,
     "metadata": {},
     "output_type": "execute_result"
    }
   ],
   "source": [
    "# x and y\n",
    "x = df[:,1:20]\n",
    "y = df[:,21]\n",
    "# satandardize the x\n",
    "using StatsBase\n",
    "dt = fit(ZScoreTransform, x, dims=2)\n",
    "x = StatsBase.transform(dt,x)"
   ]
  },
  {
   "cell_type": "code",
   "execution_count": 59,
   "metadata": {},
   "outputs": [
    {
     "data": {
      "text/plain": [
       "22-element Array{Float64,1}:\n",
       " 0.0\n",
       " 0.0\n",
       " 0.0\n",
       " 0.0\n",
       " 0.0\n",
       " 0.0\n",
       " 0.0\n",
       " 0.0\n",
       " 0.0\n",
       " 0.0\n",
       " 0.0\n",
       " 0.0\n",
       " 0.0\n",
       " 0.0\n",
       " 0.0\n",
       " 0.0\n",
       " 0.0\n",
       " 0.0\n",
       " 0.0\n",
       " 0.0\n",
       " 0.0\n",
       " 0.0"
      ]
     },
     "execution_count": 59,
     "metadata": {},
     "output_type": "execute_result"
    }
   ],
   "source": [
    "# ones matrix\n",
    "oneMatrix = ones(size(x,1))\n",
    "x = hcat(x,oneMatrix)\n",
    "# theta\n",
    "theta = zeros(size(x,2))"
   ]
  },
  {
   "cell_type": "code",
   "execution_count": 60,
   "metadata": {},
   "outputs": [
    {
     "data": {
      "text/plain": [
       "8238×1 Array{Float64,2}:\n",
       " 0.0\n",
       " 0.0\n",
       " 0.0\n",
       " 0.0\n",
       " 0.0\n",
       " 0.0\n",
       " 0.0\n",
       " 0.0\n",
       " 0.0\n",
       " 0.0\n",
       " 0.0\n",
       " 0.0\n",
       " 0.0\n",
       " ⋮  \n",
       " 0.0\n",
       " 0.0\n",
       " 1.0\n",
       " 0.0\n",
       " 0.0\n",
       " 1.0\n",
       " 0.0\n",
       " 1.0\n",
       " 0.0\n",
       " 0.0\n",
       " 1.0\n",
       " 0.0"
      ]
     },
     "execution_count": 60,
     "metadata": {},
     "output_type": "execute_result"
    }
   ],
   "source": [
    "# 80% for training and 20 % for testing\n",
    "i = size(x,1)\n",
    "x_train = x[1:trunc(Int,i * 0.8),:]\n",
    "x_test = x[trunc(Int,i * 0.8)+1:i,:]\n",
    "\n",
    "y_train = y[1:trunc(Int,i * 0.8),:]\n",
    "y_test = y[trunc(Int,i * 0.8)+1:i,:]"
   ]
  },
  {
   "cell_type": "code",
   "execution_count": null,
   "metadata": {},
   "outputs": [],
   "source": []
  }
 ],
 "metadata": {
  "kernelspec": {
   "display_name": "Julia 1.3.1",
   "language": "julia",
   "name": "julia-1.3"
  },
  "language_info": {
   "file_extension": ".jl",
   "mimetype": "application/julia",
   "name": "julia",
   "version": "1.3.1"
  }
 },
 "nbformat": 4,
 "nbformat_minor": 4
}
